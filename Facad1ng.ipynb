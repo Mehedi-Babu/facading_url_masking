{
  "nbformat": 4,
  "nbformat_minor": 0,
  "metadata": {
    "colab": {
      "provenance": []
    },
    "kernelspec": {
      "name": "python3",
      "display_name": "Python 3"
    },
    "language_info": {
      "name": "python"
    }
  },
  "cells": [
    {
      "cell_type": "code",
      "source": [
        "!git clone https://github.com/spyboy-productions/Facad1ng.git"
      ],
      "metadata": {
        "id": "aRvYoiKi5wal",
        "outputId": "25e3f312-2bf0-4964-a166-3eca08f060ea",
        "colab": {
          "base_uri": "https://localhost:8080/"
        }
      },
      "execution_count": 1,
      "outputs": [
        {
          "output_type": "stream",
          "name": "stdout",
          "text": [
            "Cloning into 'Facad1ng'...\n",
            "remote: Enumerating objects: 93, done.\u001b[K\n",
            "remote: Counting objects: 100% (93/93), done.\u001b[K\n",
            "remote: Compressing objects: 100% (84/84), done.\u001b[K\n",
            "remote: Total 93 (delta 45), reused 12 (delta 4), pack-reused 0\u001b[K\n",
            "Receiving objects: 100% (93/93), 1.14 MiB | 3.62 MiB/s, done.\n",
            "Resolving deltas: 100% (45/45), done.\n"
          ]
        }
      ]
    },
    {
      "cell_type": "code",
      "source": [
        "cd Facad1ng"
      ],
      "metadata": {
        "id": "95v676Rq50eg",
        "outputId": "de26fc99-25e9-45f3-89f5-7ea73e9e5933",
        "colab": {
          "base_uri": "https://localhost:8080/"
        }
      },
      "execution_count": 2,
      "outputs": [
        {
          "output_type": "stream",
          "name": "stdout",
          "text": [
            "/content/Facad1ng\n"
          ]
        }
      ]
    },
    {
      "cell_type": "code",
      "source": [
        "!pip3 install -r requirements.txt"
      ],
      "metadata": {
        "id": "YZWMJiqn593C",
        "outputId": "26d484f6-c197-4da9-9268-9de658f0b8b0",
        "colab": {
          "base_uri": "https://localhost:8080/"
        }
      },
      "execution_count": 3,
      "outputs": [
        {
          "output_type": "stream",
          "name": "stdout",
          "text": [
            "Collecting pyshorteners (from -r requirements.txt (line 1))\n",
            "  Downloading pyshorteners-1.0.1.tar.gz (10.0 kB)\n",
            "  Preparing metadata (setup.py) ... \u001b[?25l\u001b[?25hdone\n",
            "Requirement already satisfied: requests in /usr/local/lib/python3.10/dist-packages (from pyshorteners->-r requirements.txt (line 1)) (2.31.0)\n",
            "Requirement already satisfied: charset-normalizer<4,>=2 in /usr/local/lib/python3.10/dist-packages (from requests->pyshorteners->-r requirements.txt (line 1)) (3.3.2)\n",
            "Requirement already satisfied: idna<4,>=2.5 in /usr/local/lib/python3.10/dist-packages (from requests->pyshorteners->-r requirements.txt (line 1)) (3.6)\n",
            "Requirement already satisfied: urllib3<3,>=1.21.1 in /usr/local/lib/python3.10/dist-packages (from requests->pyshorteners->-r requirements.txt (line 1)) (2.0.7)\n",
            "Requirement already satisfied: certifi>=2017.4.17 in /usr/local/lib/python3.10/dist-packages (from requests->pyshorteners->-r requirements.txt (line 1)) (2024.2.2)\n",
            "Building wheels for collected packages: pyshorteners\n",
            "  Building wheel for pyshorteners (setup.py) ... \u001b[?25l\u001b[?25hdone\n",
            "  Created wheel for pyshorteners: filename=pyshorteners-1.0.1-py3-none-any.whl size=17481 sha256=5861bcd89a2273800d418b70445b68582136789693d223e6d0263401e918ffda\n",
            "  Stored in directory: /root/.cache/pip/wheels/d5/ff/b3/16d8906f92ab0b042f76a4696fcea11d291d79a2b3a3de1e78\n",
            "Successfully built pyshorteners\n",
            "Installing collected packages: pyshorteners\n",
            "Successfully installed pyshorteners-1.0.1\n"
          ]
        }
      ]
    },
    {
      "cell_type": "code",
      "source": [
        "!python3 facad1ng.py"
      ],
      "metadata": {
        "id": "uYaRrQYh6Ada",
        "outputId": "f499e649-2d81-4af6-fae7-c3fb0a595a7e",
        "colab": {
          "base_uri": "https://localhost:8080/"
        }
      },
      "execution_count": 5,
      "outputs": [
        {
          "output_type": "stream",
          "name": "stdout",
          "text": [
            "\u001b[31m                                               \n",
            "\n",
            "███████╗ █████╗  ██████╗ █████╗ ██████╗  ██╗███╗   ██╗ ██████╗ \n",
            "██╔════╝██╔══██╗██╔════╝██╔══██╗██╔══██╗███║████╗  ██║██╔════╝ \n",
            "█████╗  ███████║██║     ███████║██║  ██║╚██║██╔██╗ ██║██║  ███╗\n",
            "██╔══╝  ██╔══██║██║     ██╔══██║██║  ██║ ██║██║╚██╗██║██║   ██║\n",
            "██║     ██║  ██║╚██████╗██║  ██║██████╔╝ ██║██║ ╚████║╚██████╔╝\n",
            "╚═╝     ╚═╝  ╚═╝ ╚═════╝╚═╝  ╚═╝╚═════╝  ╚═╝╚═╝  ╚═══╝ ╚═════╝ \n",
            "    The Ultimate URL Masking Tool\n",
            "\u001b[0m\n",
            "\n",
            "\u001b[32m╰➤ \u001b[36mVersion      : \u001b[0m1.0.0\n",
            "\u001b[32m╰➤ \u001b[36mCreator      : \u001b[0mSpyboy\n",
            "\u001b[32m╰➤ \u001b[36mTwitter      : \u001b[0mhttps://spyboy.in/twitter\n",
            "\u001b[32m╰➤ \u001b[36mDiscord      : \u001b[0mhttps://spyboy.in/Discord\n",
            "\u001b[32m╰➤ \u001b[36mWebsite      : \u001b[0mhttps://spyboy.in/\n",
            "\u001b[32m╰➤ \u001b[36mBlog         : \u001b[0mhttps://spyboy.blog/\n",
            "\u001b[32m╰➤ \u001b[36mGithub       : \u001b[0mhttps://github.com/spyboy-productions/Facad1ng\n",
            "\n",
            "\u001b[32mEnter the original link \u001b[0m(ex: https://www.ngrok.com): \u001b[0mhttps://spyboy.in/\n",
            "\n",
            "\u001b[33mEnter your custom domain \u001b[0m(ex: gmail.com): \u001b[0mfacebook.com\n",
            "\n",
            "\u001b[36mEnter phishing keywords \u001b[0m(ex: free-stuff, login): \u001b[0mlogin_here\n",
            "\n",
            "\u001b[33mOriginal URL:\u001b[0m https://spyboy.in/ \n",
            "\n",
            "\u001b[32m[~] \u001b[31mMasked URL (using multiple shorteners):\u001b[0m\n",
            "\u001b[32m╰➤ \u001b[36mShortener \u001b[0m 1: https://facebook.com-login_here@tinyurl.com/ynqcszmx\n",
            "\u001b[32m╰➤ \u001b[36mShortener \u001b[0m 2: http://facebook.com-login_here@osdb.link/g6jt7\n",
            "\u001b[32m╰➤ \u001b[36mShortener \u001b[0m 3: https://facebook.com-login_here@da.gd/HGofVd\n",
            "\u001b[32m╰➤ \u001b[36mShortener \u001b[0m 4: https://facebook.com-login_here@clck.ru/36wpU5\n"
          ]
        }
      ]
    }
  ]
}